{
 "cells": [
  {
   "cell_type": "code",
   "execution_count": 218,
   "metadata": {},
   "outputs": [],
   "source": [
    "# Create three empty lists to store the product information for each item on the webpage\n",
    "product_descriptions = []\n",
    "product_titles = []\n",
    "product_subtitles = []"
   ]
  },
  {
   "cell_type": "code",
   "execution_count": 220,
   "metadata": {},
   "outputs": [],
   "source": [
    "from selenium import webdriver\n",
    "from selenium.webdriver.common.by import By\n",
    "import time\n",
    "\n",
    "# Create a webdriver instance and navigate to the desired webpage\n",
    "driver = webdriver.Chrome()\n",
    "driver.get(\"https://www.nike.com/in/w/sale-3yaep\")\n",
    "\n",
    "# Set the pause time for scrolling and initialize the last height\n",
    "SCROLL_PAUSE_TIME = 3\n",
    "last_height = driver.execute_script(\"return document.body.scrollHeight\")\n",
    "i = 2\n",
    "\n",
    "# Loop through each product on the webpage\n",
    "while True:\n",
    "    try:\n",
    "        # Find the product and click on it to get to the product page\n",
    "        product = driver.find_element(By.XPATH, '//*[@id=\"skip-to-products\"]/div['+str(i)+']')\n",
    "        product.click()\n",
    "\n",
    "        # Get the product description, title and subtitle\n",
    "        product_description = driver.find_element(By.XPATH, '//*[@id=\"RightRail\"]/div/span/div/div/p')\n",
    "        product_title = driver.find_element(By.XPATH, '//*[@id=\"PDP\"]/div[2]/div/div[4]/div[1]/div/div[2]/div/h1')\n",
    "        product_subtitle = driver.find_element(By.XPATH, '//*[@id=\"PDP\"]/div[2]/div/div[4]/div[1]/div/div[2]/div/h2')\n",
    "\n",
    "        # Append the product information to the relevant lists\n",
    "        product_descriptions.append(product_description.text)\n",
    "        product_titles.append(product_title.get_attribute('textContent'))\n",
    "        product_subtitles.append(product_subtitle.get_attribute('textContent'))\n",
    "\n",
    "        # Go back to the previous page\n",
    "        driver.back()\n",
    "        print(i)\n",
    "        i += 1\n",
    "\n",
    "    except:\n",
    "        # If the product is not found, scroll down to load more products\n",
    "        print(\"##\"+str(i))\n",
    "        driver.execute_script(\"window.scrollTo(0, document.body.scrollHeight);\")\n",
    "        time.sleep(SCROLL_PAUSE_TIME)\n",
    "        new_height = driver.execute_script(\"return document.body.scrollHeight\")\n",
    "\n",
    "        # If there are no more products to load, break the loop\n",
    "        if new_height == last_height:\n",
    "            break\n",
    "        last_height = new_height\n",
    "        i += 1\n",
    "\n",
    "# Quit the webdriver after the loop is complete\n",
    "driver.quit()\n"
   ]
  },
  {
   "cell_type": "code",
   "execution_count": 223,
   "metadata": {},
   "outputs": [],
   "source": [
    "print(len(product_descriptions))\n",
    "print(len(product_titles))\n",
    "print(len(product_subtitles))"
   ]
  },
  {
   "cell_type": "code",
   "execution_count": 224,
   "metadata": {},
   "outputs": [],
   "source": [
    "print(product_descriptions[2])\n",
    "print(product_titles[2])\n",
    "print(product_subtitles[2000])"
   ]
  },
  {
   "cell_type": "code",
   "execution_count": null,
   "metadata": {},
   "outputs": [],
   "source": [
    "import pandas as pd\n",
    "df = pd.DataFrame(list(zip(product_titles, product_subtitles,\n",
    "                  product_descriptions)), columns=['Title', 'Subtitle', 'Product Description'])\n",
    "\n",
    "print(len(df))"
   ]
  },
  {
   "cell_type": "code",
   "execution_count": null,
   "metadata": {},
   "outputs": [],
   "source": [
    "df.tail()"
   ]
  },
  {
   "cell_type": "code",
   "execution_count": 225,
   "metadata": {},
   "outputs": [],
   "source": [
    "df = df.drop_duplicates()\n",
    "df = df.drop_duplicates(subset='Product Description')\n",
    "print(len(df))"
   ]
  },
  {
   "cell_type": "code",
   "execution_count": null,
   "metadata": {},
   "outputs": [],
   "source": [
    "df.to_csv(\"NikeProductDescriptions.csv\", index=False)"
   ]
  }
 ],
 "metadata": {
  "kernelspec": {
   "display_name": "base",
   "language": "python",
   "name": "python3"
  },
  "language_info": {
   "codemirror_mode": {
    "name": "ipython",
    "version": 3
   },
   "file_extension": ".py",
   "mimetype": "text/x-python",
   "name": "python",
   "nbconvert_exporter": "python",
   "pygments_lexer": "ipython3",
   "version": "3.9.7"
  },
  "orig_nbformat": 4,
  "vscode": {
   "interpreter": {
    "hash": "9e40f00c4cda9194e6f7bca01dcded706cece6b68773349b5408ba20dabca6da"
   }
  }
 },
 "nbformat": 4,
 "nbformat_minor": 2
}
